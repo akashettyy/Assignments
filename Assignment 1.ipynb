{
 "cells": [
  {
   "cell_type": "markdown",
   "id": "9ece9fe0-e95e-461b-81e7-2373ac5302c6",
   "metadata": {},
   "source": [
    "Q1. Create one variable containing following type of data:"
   ]
  },
  {
   "cell_type": "code",
   "execution_count": 3,
   "id": "18e23983-21d1-4a8f-b572-cefc97227dad",
   "metadata": {},
   "outputs": [],
   "source": [
    "# (i) string\n",
    "my_string = \"Hello, World!\""
   ]
  },
  {
   "cell_type": "code",
   "execution_count": 5,
   "id": "0787130e-a6ba-40dd-851e-cbc5fcc909b0",
   "metadata": {},
   "outputs": [],
   "source": [
    "# (ii) list\n",
    "my_list = [1, 2, 3, 4, 5]"
   ]
  },
  {
   "cell_type": "code",
   "execution_count": 6,
   "id": "800964af-5c09-4daf-9a35-d2f8d055f15a",
   "metadata": {},
   "outputs": [],
   "source": [
    "# (iii) float\n",
    "my_float = 3.14"
   ]
  },
  {
   "cell_type": "code",
   "execution_count": 7,
   "id": "2ef1db44-98c9-4a04-8b19-ce03ec86bf64",
   "metadata": {},
   "outputs": [],
   "source": [
    "# (iv) tuple\n",
    "my_tuple = (10, 20, 30, 40, 50)"
   ]
  },
  {
   "cell_type": "markdown",
   "id": "73e62a78-e8af-4681-8f20-15699dcdef2a",
   "metadata": {},
   "source": [
    "Q2. Given are some following variables containing data:"
   ]
  },
  {
   "cell_type": "markdown",
   "id": "9d453a36-1f07-4a9b-ac73-56b9e52fa967",
   "metadata": {},
   "source": [
    "var1: String\n",
    "var2: String\n",
    "var3: List\n",
    "var4: Float"
   ]
  },
  {
   "cell_type": "markdown",
   "id": "6e3f270a-80d8-4aeb-b9ae-18b8451b1a52",
   "metadata": {},
   "source": [
    "Q3. Explain the use of the following operators using an example:"
   ]
  },
  {
   "cell_type": "markdown",
   "id": "7ff367e5-5609-4eab-995e-3aa0006d18f0",
   "metadata": {},
   "source": [
    "(i) / (Division Operator)\n",
    "(ii) % (Modulus Operator)\n",
    "(iii) // (Floor Division Operator)\n",
    "(iv) ** (Exponentiation Operator)"
   ]
  },
  {
   "cell_type": "markdown",
   "id": "7f33362c-af64-401e-96a2-95e9694066f1",
   "metadata": {},
   "source": [
    "Q4. Create a list of length 10 of your choice containing multiple types of data. Using for loop print the\n",
    "element and its data type."
   ]
  },
  {
   "cell_type": "code",
   "execution_count": 9,
   "id": "df6ee700-97fa-4c7a-8035-ac056815c4ea",
   "metadata": {},
   "outputs": [
    {
     "name": "stdout",
     "output_type": "stream",
     "text": [
      "Element: 42, Data Type: <class 'int'>\n",
      "Element: Hello, Data Type: <class 'str'>\n",
      "Element: 3.14, Data Type: <class 'float'>\n",
      "Element: True, Data Type: <class 'bool'>\n",
      "Element: [1, 2, 3], Data Type: <class 'list'>\n",
      "Element: ('apple', 'orange'), Data Type: <class 'tuple'>\n",
      "Element: {'key': 'value'}, Data Type: <class 'dict'>\n",
      "Element: None, Data Type: <class 'NoneType'>\n",
      "Element: 5, Data Type: <class 'int'>\n",
      "Element: Python, Data Type: <class 'str'>\n"
     ]
    }
   ],
   "source": [
    "my_list = [42, \"Hello\", 3.14, True, [1, 2, 3], ('apple', 'orange'), {\"key\": \"value\"}, None, 5, 'Python']\n",
    "\n",
    "for element in my_list:\n",
    "    print(f\"Element: {element}, Data Type: {type(element)}\")"
   ]
  },
  {
   "cell_type": "markdown",
   "id": "4821559d-ddb8-4990-88cc-f00f05f37183",
   "metadata": {},
   "source": [
    "Q5. Using a while loop, verify if the number A is purely divisible by number B and if so then how many\n",
    "times it can be divisible."
   ]
  },
  {
   "cell_type": "markdown",
   "id": "8d02f2e8-58e7-4835-91a0-59a1437870d1",
   "metadata": {},
   "source": [
    "# Taking input for numbers A and B\n",
    "A = int(input(\"Enter the value of A: \"))\n",
    "B = int(input(\"Enter the value of B: \"))\n",
    "\n",
    "# Initializing a count variable to keep track of the number of divisions\n",
    "count = 0\n",
    "\n",
    "# Using a while loop to check and count the number of divisions\n",
    "while A >= B and A % B == 0:\n",
    "    A = A / B\n",
    "    count += 1\n",
    "\n",
    "# Checking if A is purely divisible by B\n",
    "if A == 1:\n",
    "    print(f\"{A} is purely divisible by {B}, and it can be divided {count} times.\")\n",
    "else:\n",
    "    print(f\"{A} is not purely divisible by {B}.\")\n"
   ]
  },
  {
   "cell_type": "markdown",
   "id": "cd63a33c-2f83-4cbf-a184-82fa4fbb1af1",
   "metadata": {},
   "source": [
    "Q6. Create a list containing 25 int type data. Using for loop and if-else condition print if the element is\n",
    "divisible by 3 or not."
   ]
  },
  {
   "cell_type": "code",
   "execution_count": 12,
   "id": "58054861-9269-4729-95f7-a7927fbcd019",
   "metadata": {},
   "outputs": [
    {
     "name": "stdout",
     "output_type": "stream",
     "text": [
      "4 is not divisible by 3.\n",
      "7 is not divisible by 3.\n",
      "12 is divisible by 3.\n",
      "15 is divisible by 3.\n",
      "18 is divisible by 3.\n",
      "21 is divisible by 3.\n",
      "24 is divisible by 3.\n",
      "30 is divisible by 3.\n",
      "33 is divisible by 3.\n",
      "37 is not divisible by 3.\n",
      "42 is divisible by 3.\n",
      "45 is divisible by 3.\n",
      "48 is divisible by 3.\n",
      "51 is divisible by 3.\n",
      "55 is not divisible by 3.\n",
      "60 is divisible by 3.\n",
      "63 is divisible by 3.\n",
      "66 is divisible by 3.\n",
      "70 is not divisible by 3.\n",
      "72 is divisible by 3.\n",
      "75 is divisible by 3.\n",
      "80 is not divisible by 3.\n",
      "84 is divisible by 3.\n",
      "87 is divisible by 3.\n",
      "90 is divisible by 3.\n"
     ]
    }
   ],
   "source": [
    "# Creating a list of 25 integers\n",
    "my_list = [4, 7, 12, 15, 18, 21, 24, 30, 33, 37, 42, 45, 48, 51, 55, 60, 63, 66, 70, 72, 75, 80, 84, 87, 90]\n",
    "\n",
    "# Using a for loop to iterate through the list\n",
    "for number in my_list:\n",
    "    # Checking if the element is divisible by 3\n",
    "    if number % 3 == 0:\n",
    "        print(f\"{number} is divisible by 3.\")\n",
    "    else:\n",
    "        print(f\"{number} is not divisible by 3.\")\n"
   ]
  },
  {
   "cell_type": "markdown",
   "id": "dd0e3507-7811-404c-a7c4-3f618da1ccca",
   "metadata": {},
   "source": [
    "Q7. What do you understand about mutable and immutable data types? Give examples for both showing\n",
    "this property."
   ]
  },
  {
   "cell_type": "code",
   "execution_count": null,
   "id": "815c8b02-98e3-4742-8a0e-c5e3c807ad1b",
   "metadata": {},
   "outputs": [],
   "source": []
  }
 ],
 "metadata": {
  "kernelspec": {
   "display_name": "Python 3 (ipykernel)",
   "language": "python",
   "name": "python3"
  },
  "language_info": {
   "codemirror_mode": {
    "name": "ipython",
    "version": 3
   },
   "file_extension": ".py",
   "mimetype": "text/x-python",
   "name": "python",
   "nbconvert_exporter": "python",
   "pygments_lexer": "ipython3",
   "version": "3.10.8"
  }
 },
 "nbformat": 4,
 "nbformat_minor": 5
}
